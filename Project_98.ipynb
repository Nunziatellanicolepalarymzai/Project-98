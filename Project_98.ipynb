{
  "nbformat": 4,
  "nbformat_minor": 0,
  "metadata": {
    "colab": {
      "name": "Project 98.ipynb",
      "provenance": [],
      "authorship_tag": "ABX9TyPqRRf9/FieNJ6+C9G3E6IB",
      "include_colab_link": true
    },
    "kernelspec": {
      "name": "python3",
      "display_name": "Python 3"
    },
    "language_info": {
      "name": "python"
    }
  },
  "cells": [
    {
      "cell_type": "markdown",
      "metadata": {
        "id": "view-in-github",
        "colab_type": "text"
      },
      "source": [
        "<a href=\"https://colab.research.google.com/github/Nunziatellanicolepalarymzai/Project-98/blob/main/Project_98.ipynb\" target=\"_parent\"><img src=\"https://colab.research.google.com/assets/colab-badge.svg\" alt=\"Open In Colab\"/></a>"
      ]
    },
    {
      "cell_type": "code",
      "metadata": {
        "id": "8eNHhbjEjPX8"
      },
      "source": [
        ""
      ],
      "execution_count": null,
      "outputs": []
    },
    {
      "cell_type": "code",
      "metadata": {
        "id": "kn7QghZskLJo"
      },
      "source": [
        "with open(\"sample1.txt\",'r')as a:\n",
        "  data_a=a.read()\n",
        "\n",
        "with open(\"sample2.txt\",'r')as b:\n",
        "  data_b=b.read()\n",
        "\n",
        "with open(\"sample1.txt\",'w')as a:\n",
        "  a.write(data_b)\n",
        "\n",
        "with open(\"sample2.txt\",'w')as b:\n",
        "  b.write(data_a)"
      ],
      "execution_count": 1,
      "outputs": []
    }
  ]
}